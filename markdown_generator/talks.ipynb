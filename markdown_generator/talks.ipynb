{
 "cells": [
  {
   "cell_type": "markdown",
   "metadata": {
    "deletable": true,
    "editable": true
   },
   "source": [
    "# Talks markdown generator for academicpages\n",
    "\n",
    "Takes a TSV of talks with metadata and converts them for use with [academicpages.github.io](academicpages.github.io). This is an interactive Jupyter notebook ([see more info here](http://jupyter-notebook-beginner-guide.readthedocs.io/en/latest/what_is_jupyter.html)). The core python code is also in `talks.py`. Run either from the `markdown_generator` folder after replacing `talks.tsv` with one containing your data.\n",
    "\n",
    "TODO: Make this work with BibTex and other databases, rather than Stuart's non-standard TSV format and citation style."
   ]
  },
  {
   "cell_type": "code",
   "execution_count": 1,
   "metadata": {
    "collapsed": false,
    "deletable": true,
    "editable": true
   },
   "outputs": [],
   "source": [
    "import pandas as pd\n",
    "import os"
   ]
  },
  {
   "cell_type": "markdown",
   "metadata": {},
   "source": [
    "## Data format\n",
    "\n",
    "The TSV needs to have the following columns: title, type, url_slug, venue, date, location, talk_url, description, with a header at the top. Many of these fields can be blank, but the columns must be in the TSV.\n",
    "\n",
    "- Fields that cannot be blank: `title`, `url_slug`, `date`. All else can be blank. `type` defaults to \"Talk\" \n",
    "- `date` must be formatted as YYYY-MM-DD.\n",
    "- `url_slug` will be the descriptive part of the .md file and the permalink URL for the page about the paper. \n",
    "    - The .md file will be `YYYY-MM-DD-[url_slug].md` and the permalink will be `https://[yourdomain]/talks/YYYY-MM-DD-[url_slug]`\n",
    "    - The combination of `url_slug` and `date` must be unique, as it will be the basis for your filenames\n",
    "\n",
    "This is how the raw file looks (it doesn't look pretty, use a spreadsheet or other program to edit and create)."
   ]
  },
  {
   "cell_type": "code",
   "execution_count": 2,
   "metadata": {
    "collapsed": false
   },
   "outputs": [
    {
     "name": "stdout",
     "output_type": "stream",
     "text": [
      "title\ttype\turl_slug\tvenue\tdate\tlocation\ttalk_url\tdescription\n",
      "Improving Equity in Healthcare Access Through Network Design: A Case Study of Specialist Cancer Care in Rwanda\tTalk\tinforms_healthcare_2023\tInstitute for Operations Research and Management Sciences Healthcare Confrence\t2023-07-28\tToronto ON, CA\t\tCancer is a growing cause of death in Rwanda. Addressing inequity in access to cancer care requires policy solutions that consider cost, demand for care, provider availability, and barriers to healthcare access. In this talk, we consider an important barrier to access - poor road conditions that lead to long travel times to access specialist cancer care in Rwanda. We formulate a network design problem that considers road improvements and facility expansion simultaneously. We parameterize the model using publicly available data and propose solutions that align with the objectives of government and NGO partners.\n",
      "Paving the Way for More Accessible Cancer Care in Low-Income Countries with Optimization\tTalk\tinforms_2025\tInstitute for Operations Research and Management Sciences Annual Confrence\t2025-10-27\tAtlanta GA, USA\t\tCancers are a growing cause of morbidity and mortality in low-income countries. Geographic access plays a key role in both timely diagnosis and successful treatment. In areas lacking well-developed road networks, seasonal weather events can lengthen already long travel times to access care. Expanding facilities to offer cancer care is expensive and requires staffing by skilled medical professionals, which are often in short supply. In this article, we propose a mathematical model to improve geographic access to cancer care by jointly considering expansions to care facilities and improvements to the road network. We model this as a multi-period stochastic facility location network design problem. In each period, a decision maker must simultaneously choose a set of facilities at which to add tertiary cancer services and a set of roads to improve while facing demand and travel time uncertainty. Once demand for cancer care and weather events are realized, patients observe road conditions and use the transportation network to travel towards the closed facility with available cancer services. We create a new path-based formulation of this problem and develop a new branch-price-and-cut algorithm with acceleration techniques that take advantage of this formulation’s structure. We demonstrate our approach using Rwanda as a case study and show that the reductions in travel time to cancer care that are directly attributable to the road network improvements can be as high as 1 hour. \n",
      "WiscProf\tWorkshop\ttalk-2\tWiscProf\t2025-05-20\tMadison WI, USA\thttps://wiscprof.engr.wisc.edu/\t\n",
      "Designing Tertiary Cancer Services Under Burden Uncertainty\tTalk\tinforms_2024\tInstitute for Operations Research and Management Sciences Annual Confrence\t2014-03-01\tSeattle WA, USA\t\t You can put anything in this field.Cancers are a growing cause of morbidity and mortality in low- and middle-income countries (LMICs). Geographic access plays a key role in both treatment and diagnosis  - however a dearth of existing facilities often means that the demand for cancer services is not well understood. Using Rwanda as a case study, we adopt a distributionally robust optimization approach to simultaneously identify existing burdens and maximize access to treatment. First, we present a novel-path based formulation of two stage decision problem. In this problem's first stage a decision maker must simultaneously choose a set of facilities at which to add a set of tertiary cancer services and design a transportation network to improve patient access. In the second stage, patients use the transportation network to seek care at the place facilities. We then extend this formulation to instances in which demand is unknown and present preliminary work on solving large scale instances of this problem using Branch and Price and strengthening cuts."
     ]
    }
   ],
   "source": [
    "!cat talks.tsv"
   ]
  },
  {
   "cell_type": "markdown",
   "metadata": {},
   "source": [
    "## Import TSV\n",
    "\n",
    "Pandas makes this easy with the read_csv function. We are using a TSV, so we specify the separator as a tab, or `\\t`.\n",
    "\n",
    "I found it important to put this data in a tab-separated values format, because there are a lot of commas in this kind of data and comma-separated values can get messed up. However, you can modify the import statement, as pandas also has read_excel(), read_json(), and others."
   ]
  },
  {
   "cell_type": "code",
   "execution_count": 3,
   "metadata": {
    "collapsed": false,
    "deletable": true,
    "editable": true
   },
   "outputs": [
    {
     "data": {
      "text/html": [
       "<div>\n",
       "<style scoped>\n",
       "    .dataframe tbody tr th:only-of-type {\n",
       "        vertical-align: middle;\n",
       "    }\n",
       "\n",
       "    .dataframe tbody tr th {\n",
       "        vertical-align: top;\n",
       "    }\n",
       "\n",
       "    .dataframe thead th {\n",
       "        text-align: right;\n",
       "    }\n",
       "</style>\n",
       "<table border=\"1\" class=\"dataframe\">\n",
       "  <thead>\n",
       "    <tr style=\"text-align: right;\">\n",
       "      <th></th>\n",
       "      <th>title</th>\n",
       "      <th>type</th>\n",
       "      <th>url_slug</th>\n",
       "      <th>venue</th>\n",
       "      <th>date</th>\n",
       "      <th>location</th>\n",
       "      <th>talk_url</th>\n",
       "      <th>description</th>\n",
       "    </tr>\n",
       "  </thead>\n",
       "  <tbody>\n",
       "    <tr>\n",
       "      <th>0</th>\n",
       "      <td>Improving Equity in Healthcare Access Through ...</td>\n",
       "      <td>Talk</td>\n",
       "      <td>informs_healthcare_2023</td>\n",
       "      <td>Institute for Operations Research and Manageme...</td>\n",
       "      <td>2023-07-28</td>\n",
       "      <td>Toronto ON, CA</td>\n",
       "      <td>NaN</td>\n",
       "      <td>Cancer is a growing cause of death in Rwanda. ...</td>\n",
       "    </tr>\n",
       "    <tr>\n",
       "      <th>1</th>\n",
       "      <td>Paving the Way for More Accessible Cancer Care...</td>\n",
       "      <td>Talk</td>\n",
       "      <td>informs_2025</td>\n",
       "      <td>Institute for Operations Research and Manageme...</td>\n",
       "      <td>2025-10-27</td>\n",
       "      <td>Atlanta GA, USA</td>\n",
       "      <td>NaN</td>\n",
       "      <td>Cancers are a growing cause of morbidity and m...</td>\n",
       "    </tr>\n",
       "    <tr>\n",
       "      <th>2</th>\n",
       "      <td>WiscProf</td>\n",
       "      <td>Workshop</td>\n",
       "      <td>talk-2</td>\n",
       "      <td>WiscProf</td>\n",
       "      <td>2025-05-20</td>\n",
       "      <td>Madison WI, USA</td>\n",
       "      <td>https://wiscprof.engr.wisc.edu/</td>\n",
       "      <td>NaN</td>\n",
       "    </tr>\n",
       "    <tr>\n",
       "      <th>3</th>\n",
       "      <td>Designing Tertiary Cancer Services Under Burde...</td>\n",
       "      <td>Talk</td>\n",
       "      <td>informs_2024</td>\n",
       "      <td>Institute for Operations Research and Manageme...</td>\n",
       "      <td>2014-03-01</td>\n",
       "      <td>Seattle WA, USA</td>\n",
       "      <td>NaN</td>\n",
       "      <td>You can put anything in this field.Cancers ar...</td>\n",
       "    </tr>\n",
       "  </tbody>\n",
       "</table>\n",
       "</div>"
      ],
      "text/plain": [
       "                                               title      type  \\\n",
       "0  Improving Equity in Healthcare Access Through ...      Talk   \n",
       "1  Paving the Way for More Accessible Cancer Care...      Talk   \n",
       "2                                           WiscProf  Workshop   \n",
       "3  Designing Tertiary Cancer Services Under Burde...      Talk   \n",
       "\n",
       "                  url_slug                                              venue  \\\n",
       "0  informs_healthcare_2023  Institute for Operations Research and Manageme...   \n",
       "1             informs_2025  Institute for Operations Research and Manageme...   \n",
       "2                   talk-2                                           WiscProf   \n",
       "3             informs_2024  Institute for Operations Research and Manageme...   \n",
       "\n",
       "         date         location                         talk_url  \\\n",
       "0  2023-07-28   Toronto ON, CA                              NaN   \n",
       "1  2025-10-27  Atlanta GA, USA                              NaN   \n",
       "2  2025-05-20  Madison WI, USA  https://wiscprof.engr.wisc.edu/   \n",
       "3  2014-03-01  Seattle WA, USA                              NaN   \n",
       "\n",
       "                                         description  \n",
       "0  Cancer is a growing cause of death in Rwanda. ...  \n",
       "1  Cancers are a growing cause of morbidity and m...  \n",
       "2                                                NaN  \n",
       "3   You can put anything in this field.Cancers ar...  "
      ]
     },
     "execution_count": 3,
     "metadata": {},
     "output_type": "execute_result"
    }
   ],
   "source": [
    "talks = pd.read_csv(\"talks.tsv\", sep=\"\\t\", header=0)\n",
    "talks"
   ]
  },
  {
   "cell_type": "markdown",
   "metadata": {},
   "source": [
    "## Escape special characters\n",
    "\n",
    "YAML is very picky about how it takes a valid string, so we are replacing single and double quotes (and ampersands) with their HTML encoded equivilents. This makes them look not so readable in raw format, but they are parsed and rendered nicely."
   ]
  },
  {
   "cell_type": "code",
   "execution_count": 4,
   "metadata": {
    "collapsed": false,
    "deletable": true,
    "editable": true
   },
   "outputs": [],
   "source": [
    "html_escape_table = {\n",
    "    \"&\": \"&amp;\",\n",
    "    '\"': \"&quot;\",\n",
    "    \"'\": \"&apos;\"\n",
    "    }\n",
    "\n",
    "def html_escape(text):\n",
    "    if type(text) is str:\n",
    "        return \"\".join(html_escape_table.get(c,c) for c in text)\n",
    "    else:\n",
    "        return \"False\""
   ]
  },
  {
   "cell_type": "markdown",
   "metadata": {},
   "source": [
    "## Creating the markdown files\n",
    "\n",
    "This is where the heavy lifting is done. This loops through all the rows in the TSV dataframe, then starts to concatentate a big string (```md```) that contains the markdown for each type. It does the YAML metadata first, then does the description for the individual page."
   ]
  },
  {
   "cell_type": "code",
   "execution_count": 5,
   "metadata": {
    "collapsed": false,
    "deletable": true,
    "editable": true
   },
   "outputs": [],
   "source": [
    "loc_dict = {}\n",
    "\n",
    "for row, item in talks.iterrows():\n",
    "    \n",
    "    md_filename = str(item.date) + \"-\" + item.url_slug + \".md\"\n",
    "    html_filename = str(item.date) + \"-\" + item.url_slug \n",
    "    year = item.date[:4]\n",
    "    \n",
    "    md = \"---\\ntitle: \\\"\"   + item.title + '\"\\n'\n",
    "    md += \"collection: talks\" + \"\\n\"\n",
    "    \n",
    "    if len(str(item.type)) > 3:\n",
    "        md += 'type: \"' + item.type + '\"\\n'\n",
    "    else:\n",
    "        md += 'type: \"Talk\"\\n'\n",
    "    \n",
    "    md += \"permalink: /talks/\" + html_filename + \"\\n\"\n",
    "    \n",
    "    if len(str(item.venue)) > 3:\n",
    "        md += 'venue: \"' + item.venue + '\"\\n'\n",
    "        \n",
    "    if len(str(item.location)) > 3:\n",
    "        md += \"date: \" + str(item.date) + \"\\n\"\n",
    "    \n",
    "    if len(str(item.location)) > 3:\n",
    "        md += 'location: \"' + str(item.location) + '\"\\n'\n",
    "           \n",
    "    md += \"---\\n\"\n",
    "    \n",
    "    \n",
    "    if len(str(item.talk_url)) > 3:\n",
    "        md += \"\\n[More information here](\" + item.talk_url + \")\\n\" \n",
    "        \n",
    "    \n",
    "    if len(str(item.description)) > 3:\n",
    "        md += \"\\n\" + html_escape(item.description) + \"\\n\"\n",
    "        \n",
    "        \n",
    "    md_filename = os.path.basename(md_filename)\n",
    "    #print(md)\n",
    "    \n",
    "    with open(\"../_talks/\" + md_filename, 'w') as f:\n",
    "        f.write(md)"
   ]
  },
  {
   "cell_type": "markdown",
   "metadata": {},
   "source": [
    "These files are in the talks directory, one directory below where we're working from."
   ]
  },
  {
   "cell_type": "code",
   "execution_count": 6,
   "metadata": {
    "collapsed": false,
    "deletable": true,
    "editable": true
   },
   "outputs": [
    {
     "name": "stdout",
     "output_type": "stream",
     "text": [
      "2014-03-01-informs_2024.md            2025-05-20-talk-2.md\n",
      "2023-07-28-informs_healthcare_2023.md 2025-10-27-informs_2025.md\n"
     ]
    }
   ],
   "source": [
    "!ls ../_talks"
   ]
  },
  {
   "cell_type": "code",
   "execution_count": 7,
   "metadata": {
    "collapsed": false,
    "deletable": true,
    "editable": true
   },
   "outputs": [
    {
     "name": "stdout",
     "output_type": "stream",
     "text": [
      "cat: ../_talks/2013-03-01-tutorial-1.md: No such file or directory\n"
     ]
    }
   ],
   "source": [
    "!cat ../_talks/2013-03-01-tutorial-1.md"
   ]
  }
 ],
 "metadata": {
  "kernelspec": {
   "display_name": "Python 3",
   "language": "python",
   "name": "python3"
  },
  "language_info": {
   "codemirror_mode": {
    "name": "ipython",
    "version": 3
   },
   "file_extension": ".py",
   "mimetype": "text/x-python",
   "name": "python",
   "nbconvert_exporter": "python",
   "pygments_lexer": "ipython3",
   "version": "3.12.3"
  }
 },
 "nbformat": 4,
 "nbformat_minor": 0
}
