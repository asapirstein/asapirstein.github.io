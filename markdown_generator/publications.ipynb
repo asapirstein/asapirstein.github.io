{
 "cells": [
  {
   "cell_type": "markdown",
   "metadata": {
    "deletable": true,
    "editable": true
   },
   "source": [
    "# Publications markdown generator for academicpages\n",
    "\n",
    "Takes a TSV of publications with metadata and converts them for use with [academicpages.github.io](academicpages.github.io). This is an interactive Jupyter notebook ([see more info here](http://jupyter-notebook-beginner-guide.readthedocs.io/en/latest/what_is_jupyter.html)). The core python code is also in `publications.py`. Run either from the `markdown_generator` folder after replacing `publications.tsv` with one containing your data.\n",
    "\n",
    "TODO: Make this work with BibTex and other databases of citations, rather than Stuart's non-standard TSV format and citation style.\n"
   ]
  },
  {
   "cell_type": "markdown",
   "metadata": {},
   "source": [
    "## Data format\n",
    "\n",
    "The TSV needs to have the following columns: pub_date, title, venue, excerpt, citation, site_url, and paper_url, with a header at the top. \n",
    "\n",
    "- `excerpt` and `paper_url` can be blank, but the others must have values. \n",
    "- `pub_date` must be formatted as YYYY-MM-DD.\n",
    "- `url_slug` will be the descriptive part of the .md file and the permalink URL for the page about the paper. The .md file will be `YYYY-MM-DD-[url_slug].md` and the permalink will be `https://[yourdomain]/publications/YYYY-MM-DD-[url_slug]`\n",
    "\n",
    "This is how the raw file looks (it doesn't look pretty, use a spreadsheet or other program to edit and create)."
   ]
  },
  {
   "cell_type": "code",
   "execution_count": 1,
   "metadata": {
    "collapsed": false
   },
   "outputs": [
    {
     "name": "stdout",
     "output_type": "stream",
     "text": [
      "pub_date\ttitle\tvenue\texcerpt\tcitation\turl_slug\tpaper_url\tslides_url\n",
      "11-23-2022\tQuantitative fate mapping: A general framework for analyzing progenitor state dynamics via retrospective lineage barcoding\tCell\t\"Natural and induced somatic mutations that accumulate in the genome during development record the phylogenetic relationships of cells; whether these lineage barcodes capture the complex dynamics of progenitor states remains unclear. We introduce quantitative fate mapping, an approach to reconstruct the hierarchy, commitment times, population sizes, and commitment biases of intermediate progenitor states during development based on a time-scaled phylogeny of their descendants. To reconstruct time-scaled phylogenies from lineage barcodes, we introduce Phylotime, a scalable maximum likelihood clustering approach based on a general barcoding mutagenesis model. We validate these approaches using realistic in silico and in�vitro barcoding experiments. We further establish criteria for the number of cells that must be analyzed for robust quantitative fate mapping and a progenitor state coverage statistic to assess the robustness. This work demonstrates how lineage barcodes, natural or synthetic, enable analyzing progenitor fate and dynamics long after embryonic development in any organism\"\t\"Fang, W., Bell, C.M., Sapirstein, A., Asami, S., Leeper, K., Zack, D.J., Ji, H., and Kalhor, R. (2022). Quantitative fate mapping: A general framework for analyzing progenitor state dynamics via retrospective lineage barcoding. Cell 185, 4604-4620.e32. https://doi.org/10.1016/j.cell.2022.10.028.\"\tquantitative-fate-mapping\t\"Fang, W., Bell, C.M., Sapirstein, A., Asami, S., Leeper, K., Zack, D.J., Ji, H., and Kalhor, R. (2022). Quantitative fate mapping: A general framework for analyzing progenitor state dynamics via retrospective lineage barcoding. Cell 185, 4604-4620.e32. https://doi.org/10.1016/j.cell.2022.10.028.\"\t\n",
      "09-12-2024\tToward Expanded Access to Cancer Care with Cost Awareness: An Optimization Modeling Analysis of Rwanda\tJournal of Clinical Oncology: Global Oncology\t\"Cancers are a growing cause of mortality especially in low- and middle-income countries in Africa. Rwanda is no exception. Two cancer centers currently provide care to the public, but there are both political and human interest in expanding access to tertiary cancer care. Improved geographic access could lead to both better patient outcomes and a better understanding of the existing cancer burden across Rwanda. To identify cost-aware ways of expanding geographic access, we adopt an optimization approach and identify expansion plans that minimize the average travel time to a cancer center across the country while remaining under a given monetary budget. Three additional hospitals could reduce average travel times by 40%, with the largest decrease in travel times observed in populations with long travel times. However, such an expansion would require a 50% increase in the number of in-country oncologists. We find that oncologist scarcity, as opposed to monetary constraints, is likely to be a limiting factor for improved access to cancer care. We present an array of expansion plans and suggest that further modeling approaches that incorporate oncologist scarcity can help deliver better policy recommendations.\"\t\"Sapirstein, A., Steimle, L.N., and Stefan, D.C. (2024). Toward Expanded Access to Cancer Care With Cost Awareness: An Optimization Modeling Analysis of Rwanda. JCO Glob Oncol, e2400022. https://doi.org/10.1200/GO.24.00022.\"\ttowards-expanded-access\tascopubs.org/doi/pdfdirect/10.1200/GO.24.00022\t\n",
      "07-1-2025\tGeographic disparities in liver supply/demand ratio within fixed-distance and fixed-population circles\tAmerican Journal of Transplantation\t\"Recent OPTN proposals to address geographic disparity in liver allocation have involved circular boundaries: the policy selected 12/17 allocated to 150-mile circles in addition to DSAs/regions, and the policy selected 12/18 allocated to 150-mile circles eliminating DSA/region boundaries. However, methods to reduce geographic disparity remain controversial, within the OPTN and the transplant community. To inform ongoing discussions, we studied center-level supply/demand ratios using SRTR data (07/2013-06/2017) for 27 334 transplanted deceased donor livers and 44 652 incident waitlist candidates. Supply was the number of donors from an allocation unit (DSA or circle), allocated proportionally (by waitlist size) to the centers drawing on these donors. We measured geographic disparity as variance in log-transformed supply/demand ratio, comparing allocation based on DSAs, fixed-distance circles (150- or 400-mile radius), and fixed-population (12- or 50-million) circles. The recently proposed 150-mile radius circles (variance = 0.11, P = .9) or 12-million-population circles (variance = 0.08, P = .1) did not reduce the geographic disparity compared to DSA-based allocation (variance = 0.11). However, geographic disparity decreased substantially to 0.02 in both larger fixed-distance (400-mile, P < .001) and larger fixed-population (50-million, P < .001) circles (P = .9 comparing fixed distance and fixed population). For allocation circles to reduce geographic disparities, they must be larger than a 150-mile radius; additionally, fixed-population circles are not superior to fixed-distance circles.\"\t\"Haugen, C.E., Ishaque, T., Sapirstein, A., Cauneac, A., Segev, D.L., and Gentry, S. (2019). Geographic disparities in liver supply/demand ratio within fixed-distance and fixed-population circles. American Journal of Transplantation 19, 2044�2052. https://doi.org/10.1111/ajt.15297.\"\tgeographic disparities in liver supply\thttps://pubmed.ncbi.nlm.nih.gov/30748095/\t\n",
      "5-3-25\tPaving the Way for More Accessible Cancer Care in Low-Income Countries with Optimization\tOptimization Online \tCancers are a growing cause of morbidity and mortality in low-income countries. Geographic access plays a key role in both timely diagnosis and successful treatment. In areas lacking well-developed road networks, seasonal weather events can lengthen already long travel times to access care. Expanding facilities to offer cancer care is expensive and requires staffing by skilled medical professionals, which are often in short supply. In this article, we propose a mathematical model to improve geographic access to cancer care by jointly considering expansions to care facilities and improvements to the road network. We model this as a multi-period stochastic facility location network design problem. In each period, a decision maker must simultaneously choose a set of facilities at which to add tertiary cancer services and a set of roads to improve while facing demand and travel time uncertainty. Once demand for cancer care and weather events are realized, patients observe road conditions and use the transportation network to travel towards the closed facility with available cancer services. We create a new path-based formulation of this problem and develop a new branch-price-and-cut algorithm with acceleration techniques that take advantage of this formulation’s structure. We demonstrate our approach using Rwanda as a case study and show that the reductions in travel time to cancer care that are directly attributable to the road network improvements can be as high as 1 hour.\tSapirstein, A., Steimle, L.N., and Dahan, M. (2025). Paving the Way for More Accessible Cancer Care in Low-Income Countries with Optimization. Preprint at Optimization Online.\tpaving-the-way\thttps://optimization-online.org/?p=30217\t"
     ]
    }
   ],
   "source": [
    "!cat publications.tsv"
   ]
  },
  {
   "cell_type": "markdown",
   "metadata": {},
   "source": [
    "## Import pandas\n",
    "\n",
    "We are using the very handy pandas library for dataframes."
   ]
  },
  {
   "cell_type": "code",
   "execution_count": 2,
   "metadata": {
    "collapsed": true,
    "deletable": true,
    "editable": true
   },
   "outputs": [],
   "source": [
    "import pandas as pd"
   ]
  },
  {
   "cell_type": "markdown",
   "metadata": {},
   "source": [
    "## Import TSV\n",
    "\n",
    "Pandas makes this easy with the read_csv function. We are using a TSV, so we specify the separator as a tab, or `\\t`.\n",
    "\n",
    "I found it important to put this data in a tab-separated values format, because there are a lot of commas in this kind of data and comma-separated values can get messed up. However, you can modify the import statement, as pandas also has read_excel(), read_json(), and others."
   ]
  },
  {
   "cell_type": "code",
   "execution_count": 3,
   "metadata": {
    "collapsed": false,
    "deletable": true,
    "editable": true
   },
   "outputs": [
    {
     "data": {
      "text/html": [
       "<div>\n",
       "<style scoped>\n",
       "    .dataframe tbody tr th:only-of-type {\n",
       "        vertical-align: middle;\n",
       "    }\n",
       "\n",
       "    .dataframe tbody tr th {\n",
       "        vertical-align: top;\n",
       "    }\n",
       "\n",
       "    .dataframe thead th {\n",
       "        text-align: right;\n",
       "    }\n",
       "</style>\n",
       "<table border=\"1\" class=\"dataframe\">\n",
       "  <thead>\n",
       "    <tr style=\"text-align: right;\">\n",
       "      <th></th>\n",
       "      <th>pub_date</th>\n",
       "      <th>title</th>\n",
       "      <th>venue</th>\n",
       "      <th>excerpt</th>\n",
       "      <th>citation</th>\n",
       "      <th>url_slug</th>\n",
       "      <th>paper_url</th>\n",
       "      <th>slides_url</th>\n",
       "    </tr>\n",
       "  </thead>\n",
       "  <tbody>\n",
       "    <tr>\n",
       "      <th>0</th>\n",
       "      <td>11-23-2022</td>\n",
       "      <td>Quantitative fate mapping: A general framework...</td>\n",
       "      <td>Cell</td>\n",
       "      <td>Natural and induced somatic mutations that acc...</td>\n",
       "      <td>Fang, W., Bell, C.M., Sapirstein, A., Asami, S...</td>\n",
       "      <td>quantitative-fate-mapping</td>\n",
       "      <td>Fang, W., Bell, C.M., Sapirstein, A., Asami, S...</td>\n",
       "      <td>NaN</td>\n",
       "    </tr>\n",
       "    <tr>\n",
       "      <th>1</th>\n",
       "      <td>09-12-2024</td>\n",
       "      <td>Toward Expanded Access to Cancer Care with Cos...</td>\n",
       "      <td>Journal of Clinical Oncology: Global Oncology</td>\n",
       "      <td>Cancers are a growing cause of mortality espec...</td>\n",
       "      <td>Sapirstein, A., Steimle, L.N., and Stefan, D.C...</td>\n",
       "      <td>towards-expanded-access</td>\n",
       "      <td>ascopubs.org/doi/pdfdirect/10.1200/GO.24.00022</td>\n",
       "      <td>NaN</td>\n",
       "    </tr>\n",
       "    <tr>\n",
       "      <th>2</th>\n",
       "      <td>07-1-2025</td>\n",
       "      <td>Geographic disparities in liver supply/demand ...</td>\n",
       "      <td>American Journal of Transplantation</td>\n",
       "      <td>Recent OPTN proposals to address geographic di...</td>\n",
       "      <td>Haugen, C.E., Ishaque, T., Sapirstein, A., Cau...</td>\n",
       "      <td>geographic disparities in liver supply</td>\n",
       "      <td>https://pubmed.ncbi.nlm.nih.gov/30748095/</td>\n",
       "      <td>NaN</td>\n",
       "    </tr>\n",
       "    <tr>\n",
       "      <th>3</th>\n",
       "      <td>5-3-25</td>\n",
       "      <td>Paving the Way for More Accessible Cancer Care...</td>\n",
       "      <td>Optimization Online</td>\n",
       "      <td>Cancers are a growing cause of morbidity and m...</td>\n",
       "      <td>Sapirstein, A., Steimle, L.N., and Dahan, M. (...</td>\n",
       "      <td>paving-the-way</td>\n",
       "      <td>https://optimization-online.org/?p=30217</td>\n",
       "      <td>NaN</td>\n",
       "    </tr>\n",
       "  </tbody>\n",
       "</table>\n",
       "</div>"
      ],
      "text/plain": [
       "     pub_date                                              title  \\\n",
       "0  11-23-2022  Quantitative fate mapping: A general framework...   \n",
       "1  09-12-2024  Toward Expanded Access to Cancer Care with Cos...   \n",
       "2   07-1-2025  Geographic disparities in liver supply/demand ...   \n",
       "3      5-3-25  Paving the Way for More Accessible Cancer Care...   \n",
       "\n",
       "                                           venue  \\\n",
       "0                                           Cell   \n",
       "1  Journal of Clinical Oncology: Global Oncology   \n",
       "2            American Journal of Transplantation   \n",
       "3                           Optimization Online    \n",
       "\n",
       "                                             excerpt  \\\n",
       "0  Natural and induced somatic mutations that acc...   \n",
       "1  Cancers are a growing cause of mortality espec...   \n",
       "2  Recent OPTN proposals to address geographic di...   \n",
       "3  Cancers are a growing cause of morbidity and m...   \n",
       "\n",
       "                                            citation  \\\n",
       "0  Fang, W., Bell, C.M., Sapirstein, A., Asami, S...   \n",
       "1  Sapirstein, A., Steimle, L.N., and Stefan, D.C...   \n",
       "2  Haugen, C.E., Ishaque, T., Sapirstein, A., Cau...   \n",
       "3  Sapirstein, A., Steimle, L.N., and Dahan, M. (...   \n",
       "\n",
       "                                 url_slug  \\\n",
       "0               quantitative-fate-mapping   \n",
       "1                 towards-expanded-access   \n",
       "2  geographic disparities in liver supply   \n",
       "3                          paving-the-way   \n",
       "\n",
       "                                           paper_url  slides_url  \n",
       "0  Fang, W., Bell, C.M., Sapirstein, A., Asami, S...         NaN  \n",
       "1     ascopubs.org/doi/pdfdirect/10.1200/GO.24.00022         NaN  \n",
       "2          https://pubmed.ncbi.nlm.nih.gov/30748095/         NaN  \n",
       "3           https://optimization-online.org/?p=30217         NaN  "
      ]
     },
     "execution_count": 3,
     "metadata": {},
     "output_type": "execute_result"
    }
   ],
   "source": [
    "publications = pd.read_csv(\"publications.tsv\", sep=\"\\t\", header=0)\n",
    "publications\n"
   ]
  },
  {
   "cell_type": "markdown",
   "metadata": {},
   "source": [
    "## Escape special characters\n",
    "\n",
    "YAML is very picky about how it takes a valid string, so we are replacing single and double quotes (and ampersands) with their HTML encoded equivilents. This makes them look not so readable in raw format, but they are parsed and rendered nicely."
   ]
  },
  {
   "cell_type": "code",
   "execution_count": 4,
   "metadata": {
    "collapsed": true,
    "deletable": true,
    "editable": true
   },
   "outputs": [],
   "source": [
    "html_escape_table = {\n",
    "    \"&\": \"&amp;\",\n",
    "    '\"': \"&quot;\",\n",
    "    \"'\": \"&apos;\"\n",
    "    }\n",
    "\n",
    "def html_escape(text):\n",
    "    \"\"\"Produce entities within text.\"\"\"\n",
    "    return \"\".join(html_escape_table.get(c,c) for c in text)"
   ]
  },
  {
   "cell_type": "markdown",
   "metadata": {},
   "source": [
    "## Creating the markdown files\n",
    "\n",
    "This is where the heavy lifting is done. This loops through all the rows in the TSV dataframe, then starts to concatentate a big string (```md```) that contains the markdown for each type. It does the YAML metadata first, then does the description for the individual page."
   ]
  },
  {
   "cell_type": "code",
   "execution_count": 5,
   "metadata": {
    "collapsed": false,
    "deletable": true,
    "editable": true
   },
   "outputs": [],
   "source": [
    "import os\n",
    "for row, item in publications.iterrows():\n",
    "    \n",
    "    md_filename = str(item.pub_date) + \"-\" + item.url_slug + \".md\"\n",
    "    html_filename = str(item.pub_date) + \"-\" + item.url_slug\n",
    "    year = item.pub_date[:4]\n",
    "    \n",
    "    ## YAML variables\n",
    "    \n",
    "    md = \"---\\ntitle: \\\"\"   + item.title + '\"\\n'\n",
    "    \n",
    "    md += \"\"\"collection: publications\"\"\"\n",
    "    \n",
    "    md += \"\"\"\\npermalink: /publication/\"\"\" + html_filename\n",
    "    \n",
    "    if len(str(item.excerpt)) > 5:\n",
    "        md += \"\\nexcerpt: '\" + html_escape(item.excerpt) + \"'\"\n",
    "    \n",
    "    md += \"\\ndate: \" + str(item.pub_date) \n",
    "    \n",
    "    md += \"\\nvenue: '\" + html_escape(item.venue) + \"'\"\n",
    "    \n",
    "    if len(str(item.slides_url)) > 5:\n",
    "        md += \"\\nslidesurl: '\" + item.slides_url + \"'\"\n",
    "\n",
    "    if len(str(item.paper_url)) > 5:\n",
    "        md += \"\\npaperurl: '\" + item.paper_url + \"'\"\n",
    "    \n",
    "    md += \"\\ncitation: '\" + html_escape(item.citation) + \"'\"\n",
    "    \n",
    "    md += \"\\n---\"\n",
    "    \n",
    "    ## Markdown description for individual page\n",
    "        \n",
    "    if len(str(item.excerpt)) > 5:\n",
    "        md += \"\\n\" + html_escape(item.excerpt) + \"\\n\"\n",
    "\n",
    "    if len(str(item.slides_url)) > 5:\n",
    "        md += \"\\n[Download slides here](\" + item.slides_url + \")\\n\" \n",
    "\n",
    "    if len(str(item.paper_url)) > 5:\n",
    "        md += \"\\n[Download paper here](\" + item.paper_url + \")\\n\" \n",
    "        \n",
    "    md += \"\\nRecommended citation: \" + item.citation\n",
    "    \n",
    "    md_filename = os.path.basename(md_filename)\n",
    "       \n",
    "    with open(\"../_publications/\" + md_filename, 'w') as f:\n",
    "        f.write(md)"
   ]
  },
  {
   "cell_type": "markdown",
   "metadata": {},
   "source": [
    "These files are in the publications directory, one directory below where we're working from."
   ]
  },
  {
   "cell_type": "code",
   "execution_count": 6,
   "metadata": {
    "collapsed": false,
    "deletable": true,
    "editable": true
   },
   "outputs": [
    {
     "name": "stdout",
     "output_type": "stream",
     "text": [
      "07-1-2025-geographic disparities in liver supply.md\n",
      "07-1-25-geographic disparities in liver supply.md\n",
      "09-12-2024-towards-expanded-access.md\n",
      "11-23-2022-quantitative-fate-mapping.md\n",
      "5-3-25-paving-the-way.md\n"
     ]
    }
   ],
   "source": [
    "!ls ../_publications/"
   ]
  },
  {
   "cell_type": "code",
   "execution_count": 7,
   "metadata": {
    "collapsed": false,
    "deletable": true,
    "editable": true
   },
   "outputs": [
    {
     "name": "stdout",
     "output_type": "stream",
     "text": [
      "cat: ../_publications/2009-10-01-paper-title-number-1.md: No such file or directory\n"
     ]
    }
   ],
   "source": [
    "!cat ../_publications/2009-10-01-paper-title-number-1.md"
   ]
  },
  {
   "cell_type": "code",
   "execution_count": null,
   "metadata": {
    "collapsed": true,
    "deletable": true,
    "editable": true
   },
   "outputs": [],
   "source": []
  }
 ],
 "metadata": {
  "kernelspec": {
   "display_name": "Python 3",
   "language": "python",
   "name": "python3"
  },
  "language_info": {
   "codemirror_mode": {
    "name": "ipython",
    "version": 3
   },
   "file_extension": ".py",
   "mimetype": "text/x-python",
   "name": "python",
   "nbconvert_exporter": "python",
   "pygments_lexer": "ipython3",
   "version": "3.12.3"
  }
 },
 "nbformat": 4,
 "nbformat_minor": 0
}
